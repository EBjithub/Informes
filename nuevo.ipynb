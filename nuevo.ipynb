{
 "cells": [
  {
   "cell_type": "code",
   "execution_count": 17,
   "metadata": {},
   "outputs": [],
   "source": [
    "from xml.dom.minidom import Entity\n",
    "import pandas as pd\n",
    "import numpy as np\n"
   ]
  },
  {
   "cell_type": "code",
   "execution_count": 8,
   "metadata": {},
   "outputs": [],
   "source": [
    "df = pd.read_csv('datasets/Fuentes_Consumo_Energia.csv')"
   ]
  },
  {
   "cell_type": "code",
   "execution_count": 7,
   "metadata": {},
   "outputs": [
    {
     "data": {
      "text/plain": [
       "Index(['Entity', 'Code', 'Year', 'Coal_Consumption_EJ', 'Gas_Consumption_EJ',\n",
       "       'Geo_Biomass_Other_TWh', 'Hydro_Generation_TWh',\n",
       "       'Nuclear_Generation_TWh', 'Solar_Generation_TWh', 'Wind_Generation_TWh',\n",
       "       'Oil_Consumption_EJ'],\n",
       "      dtype='object')"
      ]
     },
     "execution_count": 7,
     "metadata": {},
     "output_type": "execute_result"
    }
   ],
   "source": [
    "df.columns"
   ]
  },
  {
   "cell_type": "code",
   "execution_count": 12,
   "metadata": {},
   "outputs": [
    {
     "data": {
      "text/plain": [
       "1393"
      ]
     },
     "execution_count": 12,
     "metadata": {},
     "output_type": "execute_result"
    }
   ],
   "source": [
    "mask = df['Entity']=='Europe'\n",
    "indice_max = df['Hydro_Generation_TWh'][mask].idxmax()\n",
    "indice_max"
   ]
  },
  {
   "cell_type": "code",
   "execution_count": 14,
   "metadata": {},
   "outputs": [
    {
     "data": {
      "text/plain": [
       "2013"
      ]
     },
     "execution_count": 14,
     "metadata": {},
     "output_type": "execute_result"
    }
   ],
   "source": [
    "year = df.loc[indice_max,'Year']\n",
    "year"
   ]
  },
  {
   "cell_type": "code",
   "execution_count": 15,
   "metadata": {},
   "outputs": [
    {
     "data": {
      "text/plain": [
       "2013"
      ]
     },
     "execution_count": 15,
     "metadata": {},
     "output_type": "execute_result"
    }
   ],
   "source": [
    "df.loc[df['Hydro_Generation_TWh'][df['Entity']=='Europe'].idxmax(),'Year']"
   ]
  },
  {
   "cell_type": "code",
   "execution_count": 41,
   "metadata": {},
   "outputs": [],
   "source": [
    "n1 = np.array([[0,0,0],[1,1,1],[2,2,2],[3,3,3],[4,4,4],[5,5,5]])\n",
    "n2 = np.array([[6,7],[8,6],[7,8]])\n",
    "n3 = np.array([[9,9],[10,10]])"
   ]
  },
  {
   "cell_type": "code",
   "execution_count": 42,
   "metadata": {},
   "outputs": [
    {
     "name": "stdout",
     "output_type": "stream",
     "text": [
      "s\n"
     ]
    },
    {
     "ename": "ValueError",
     "evalue": "operands could not be broadcast together with shapes (6,3) (3,2) ",
     "output_type": "error",
     "traceback": [
      "\u001b[1;31m---------------------------------------------------------------------------\u001b[0m",
      "\u001b[1;31mValueError\u001b[0m                                Traceback (most recent call last)",
      "Cell \u001b[1;32mIn[42], line 3\u001b[0m\n\u001b[0;32m      1\u001b[0m \u001b[39mif\u001b[39;00m n1\u001b[39m.\u001b[39mshape[\u001b[39m1\u001b[39m] \u001b[39m==\u001b[39m n2\u001b[39m.\u001b[39mshape[\u001b[39m0\u001b[39m]:\n\u001b[0;32m      2\u001b[0m     \u001b[39mprint\u001b[39m(\u001b[39m'\u001b[39m\u001b[39ms\u001b[39m\u001b[39m'\u001b[39m)\n\u001b[1;32m----> 3\u001b[0m     \u001b[39mprint\u001b[39m(n1\u001b[39m*\u001b[39;49mn2)\n",
      "\u001b[1;31mValueError\u001b[0m: operands could not be broadcast together with shapes (6,3) (3,2) "
     ]
    }
   ],
   "source": [
    "\n",
    "if n1.shape[1] == n2.shape[0] & n2.shape[1] == n3.shape[0]:\n",
    "    \n",
    "    \n"
   ]
  },
  {
   "cell_type": "code",
   "execution_count": 36,
   "metadata": {},
   "outputs": [
    {
     "name": "stdout",
     "output_type": "stream",
     "text": [
      "146585.30\n"
     ]
    }
   ],
   "source": [
    "pd.read_csv('datasets/Fuentes_Consumo_Energia.csv')\n",
    "df['Consumo_Total'] = df['Geo_Biomass_Other_TWh'] + df['Hydro_Generation_TWh'] + df['Nuclear_Generation_TWh'] +df['Solar_Generation_TWh'] +df['Wind_Generation_TWh'] + 277.778*(df['Coal_Consumption_EJ'] + df['Gas_Consumption_EJ'] + df['Oil_Consumption_EJ'])\n",
    "mask_year = df['Year']==2019\n",
    "mask_entity = df['Entity']=='World'\n",
    "resultado = df[mask_year & mask_entity]['Consumo_Total']\n",
    "resultado_aux = resultado.iloc[0]\n",
    "resultado_final = \"{:.2f}\".format(resultado_aux)\n",
    "r = float(resultado_final)\n",
    "#result = round(float(resultado_final),2)\n",
    "#print(resultado_aux)\n",
    "#print(type(resultado_aux))\n",
    "print(resultado_final)"
   ]
  },
  {
   "cell_type": "code",
   "execution_count": 45,
   "metadata": {},
   "outputs": [
    {
     "data": {
      "text/plain": [
       "(7779, 8)"
      ]
     },
     "execution_count": 45,
     "metadata": {},
     "output_type": "execute_result"
    }
   ],
   "source": [
    "df1 = pd.read_csv('datasets/GGAL - Cotizaciones historicas.csv')\n",
    "df1.shape"
   ]
  },
  {
   "cell_type": "code",
   "execution_count": 46,
   "metadata": {},
   "outputs": [
    {
     "data": {
      "text/html": [
       "<div>\n",
       "<style scoped>\n",
       "    .dataframe tbody tr th:only-of-type {\n",
       "        vertical-align: middle;\n",
       "    }\n",
       "\n",
       "    .dataframe tbody tr th {\n",
       "        vertical-align: top;\n",
       "    }\n",
       "\n",
       "    .dataframe thead th {\n",
       "        text-align: right;\n",
       "    }\n",
       "</style>\n",
       "<table border=\"1\" class=\"dataframe\">\n",
       "  <thead>\n",
       "    <tr style=\"text-align: right;\">\n",
       "      <th></th>\n",
       "      <th>especie</th>\n",
       "      <th>fecha</th>\n",
       "      <th>apertura</th>\n",
       "      <th>maximo</th>\n",
       "      <th>minimo</th>\n",
       "      <th>cierre</th>\n",
       "      <th>volumen</th>\n",
       "      <th>timestamp</th>\n",
       "    </tr>\n",
       "  </thead>\n",
       "  <tbody>\n",
       "    <tr>\n",
       "      <th>0</th>\n",
       "      <td>GGAL</td>\n",
       "      <td>02/01/1991</td>\n",
       "      <td>0.02338</td>\n",
       "      <td>0.02338</td>\n",
       "      <td>0.02313</td>\n",
       "      <td>0.02338</td>\n",
       "      <td>0</td>\n",
       "      <td>662781600</td>\n",
       "    </tr>\n",
       "    <tr>\n",
       "      <th>1</th>\n",
       "      <td>GGAL</td>\n",
       "      <td>03/01/1991</td>\n",
       "      <td>0.02289</td>\n",
       "      <td>0.02289</td>\n",
       "      <td>0.02251</td>\n",
       "      <td>0.02289</td>\n",
       "      <td>0</td>\n",
       "      <td>662868000</td>\n",
       "    </tr>\n",
       "    <tr>\n",
       "      <th>2</th>\n",
       "      <td>GGAL</td>\n",
       "      <td>04/01/1991</td>\n",
       "      <td>0.02251</td>\n",
       "      <td>0.02289</td>\n",
       "      <td>0.02251</td>\n",
       "      <td>0.02251</td>\n",
       "      <td>0</td>\n",
       "      <td>662954400</td>\n",
       "    </tr>\n",
       "    <tr>\n",
       "      <th>3</th>\n",
       "      <td>GGAL</td>\n",
       "      <td>07/01/1991</td>\n",
       "      <td>0.02202</td>\n",
       "      <td>0.02202</td>\n",
       "      <td>0.02202</td>\n",
       "      <td>0.02202</td>\n",
       "      <td>0</td>\n",
       "      <td>663213600</td>\n",
       "    </tr>\n",
       "    <tr>\n",
       "      <th>4</th>\n",
       "      <td>GGAL</td>\n",
       "      <td>08/01/1991</td>\n",
       "      <td>0.02128</td>\n",
       "      <td>0.02177</td>\n",
       "      <td>0.02128</td>\n",
       "      <td>0.02128</td>\n",
       "      <td>0</td>\n",
       "      <td>663300000</td>\n",
       "    </tr>\n",
       "  </tbody>\n",
       "</table>\n",
       "</div>"
      ],
      "text/plain": [
       "  especie       fecha  apertura   maximo   minimo   cierre  volumen  timestamp\n",
       "0    GGAL  02/01/1991   0.02338  0.02338  0.02313  0.02338        0  662781600\n",
       "1    GGAL  03/01/1991   0.02289  0.02289  0.02251  0.02289        0  662868000\n",
       "2    GGAL  04/01/1991   0.02251  0.02289  0.02251  0.02251        0  662954400\n",
       "3    GGAL  07/01/1991   0.02202  0.02202  0.02202  0.02202        0  663213600\n",
       "4    GGAL  08/01/1991   0.02128  0.02177  0.02128  0.02128        0  663300000"
      ]
     },
     "execution_count": 46,
     "metadata": {},
     "output_type": "execute_result"
    }
   ],
   "source": [
    "df1.head()"
   ]
  },
  {
   "cell_type": "code",
   "execution_count": 50,
   "metadata": {},
   "outputs": [
    {
     "data": {
      "text/plain": [
       "202185.8933"
      ]
     },
     "execution_count": 50,
     "metadata": {},
     "output_type": "execute_result"
    }
   ],
   "source": [
    "round(df1['maximo'].sum(),4)"
   ]
  },
  {
   "cell_type": "code",
   "execution_count": 51,
   "metadata": {},
   "outputs": [],
   "source": [
    "df10 = pd.read_csv(r'datasets/Tabla1_ejercicio.csv', delimiter=';', encoding='latin-1')\n",
    "df11 = pd.read_csv(r'datasets/Tabla2_ejercicio.csv', delimiter=';', encoding='latin-1')"
   ]
  },
  {
   "cell_type": "code",
   "execution_count": 52,
   "metadata": {},
   "outputs": [],
   "source": [
    "df11_new = df11.merge(df10, on='pers_id', how='left')"
   ]
  },
  {
   "cell_type": "code",
   "execution_count": 53,
   "metadata": {},
   "outputs": [],
   "source": [
    "df11_new = df11_new.drop_duplicates(subset=['pers_id' , 'periodo'])"
   ]
  },
  {
   "cell_type": "code",
   "execution_count": 56,
   "metadata": {},
   "outputs": [
    {
     "data": {
      "text/plain": [
       "772.28"
      ]
     },
     "execution_count": 56,
     "metadata": {},
     "output_type": "execute_result"
    }
   ],
   "source": [
    "mascara = df11_new['sexo']=='M'\n",
    "round(df11_new[mascara]['score'].mean(),2)"
   ]
  },
  {
   "cell_type": "code",
   "execution_count": 57,
   "metadata": {},
   "outputs": [
    {
     "data": {
      "text/plain": [
       "630.59"
      ]
     },
     "execution_count": 57,
     "metadata": {},
     "output_type": "execute_result"
    }
   ],
   "source": [
    "mascara2 = df11_new['sexo']=='F'\n",
    "round(df11_new[mascara2]['score'].mean(),2)"
   ]
  },
  {
   "cell_type": "code",
   "execution_count": 65,
   "metadata": {},
   "outputs": [
    {
     "name": "stdout",
     "output_type": "stream",
     "text": [
      "(630.5886271001093, 772.2811111111112)\n"
     ]
    }
   ],
   "source": [
    "df10 = pd.read_csv(r'datasets/Tabla1_ejercicio.csv', delimiter=';', encoding='latin-1')\n",
    "df11 = pd.read_csv(r'datasets/Tabla2_ejercicio.csv', delimiter=';', encoding='latin-1')\n",
    "df11_new = df11.merge(df10, on='pers_id', how='left')\n",
    "df11_new = df11_new.drop_duplicates(subset=['pers_id' , 'periodo'])\n",
    "mascara = df11_new['sexo']=='M'\n",
    "m = df11_new[mascara]['score'].mean()\n",
    "mascara2 = df11_new['sexo']=='F'\n",
    "f = df11_new[mascara2]['score'].mean()\n",
    "print ((f,m))"
   ]
  },
  {
   "cell_type": "code",
   "execution_count": 93,
   "metadata": {},
   "outputs": [],
   "source": [
    "from Lista import Lista"
   ]
  },
  {
   "cell_type": "code",
   "execution_count": 95,
   "metadata": {},
   "outputs": [
    {
     "ename": "TypeError",
     "evalue": "Lista.agregarElemento() takes 2 positional arguments but 3 were given",
     "output_type": "error",
     "traceback": [
      "\u001b[1;31m---------------------------------------------------------------------------\u001b[0m",
      "\u001b[1;31mTypeError\u001b[0m                                 Traceback (most recent call last)",
      "Cell \u001b[1;32mIn[95], line 1\u001b[0m\n\u001b[1;32m----> 1\u001b[0m Lista\u001b[39m.\u001b[39;49magregarElemento(\u001b[39m1\u001b[39;49m,\u001b[39m2\u001b[39;49m,\u001b[39m3\u001b[39;49m)\n",
      "\u001b[1;31mTypeError\u001b[0m: Lista.agregarElemento() takes 2 positional arguments but 3 were given"
     ]
    }
   ],
   "source": [
    "Lista.agregarElemento(1,2,3)"
   ]
  },
  {
   "cell_type": "code",
   "execution_count": 81,
   "metadata": {},
   "outputs": [],
   "source": [
    "pi = po()"
   ]
  },
  {
   "cell_type": "code",
   "execution_count": 90,
   "metadata": {},
   "outputs": [],
   "source": [
    "lista = Lista()"
   ]
  },
  {
   "cell_type": "code",
   "execution_count": 92,
   "metadata": {},
   "outputs": [
    {
     "ename": "AttributeError",
     "evalue": "'list' object has no attribute 'agregarElemento'",
     "output_type": "error",
     "traceback": [
      "\u001b[1;31m---------------------------------------------------------------------------\u001b[0m",
      "\u001b[1;31mAttributeError\u001b[0m                            Traceback (most recent call last)",
      "Cell \u001b[1;32mIn[92], line 2\u001b[0m\n\u001b[0;32m      1\u001b[0m lista \u001b[39m=\u001b[39m [\u001b[39m1\u001b[39m,\u001b[39m2\u001b[39m,\u001b[39m3\u001b[39m,\u001b[39m4\u001b[39m]\n\u001b[1;32m----> 2\u001b[0m lista\u001b[39m.\u001b[39;49magregarElemento(\u001b[39m1\u001b[39m)\n",
      "\u001b[1;31mAttributeError\u001b[0m: 'list' object has no attribute 'agregarElemento'"
     ]
    }
   ],
   "source": [
    "lista = [1,2,3,4]\n",
    "lista.agregarElemento(1)\n"
   ]
  },
  {
   "cell_type": "code",
   "execution_count": 73,
   "metadata": {},
   "outputs": [
    {
     "ename": "TypeError",
     "evalue": "Lista.agregarElemento() missing 1 required positional argument: 'dato'",
     "output_type": "error",
     "traceback": [
      "\u001b[1;31m---------------------------------------------------------------------------\u001b[0m",
      "\u001b[1;31mTypeError\u001b[0m                                 Traceback (most recent call last)",
      "Cell \u001b[1;32mIn[73], line 2\u001b[0m\n\u001b[0;32m      1\u001b[0m \u001b[39mfor\u001b[39;00m i \u001b[39min\u001b[39;00m lista:\n\u001b[1;32m----> 2\u001b[0m     Lista\u001b[39m.\u001b[39;49magregarElemento(i)\n",
      "\u001b[1;31mTypeError\u001b[0m: Lista.agregarElemento() missing 1 required positional argument: 'dato'"
     ]
    }
   ],
   "source": [
    "for i in lista:\n",
    "    Lista.agregarElemento(i)"
   ]
  }
 ],
 "metadata": {
  "kernelspec": {
   "display_name": "Python 3",
   "language": "python",
   "name": "python3"
  },
  "language_info": {
   "codemirror_mode": {
    "name": "ipython",
    "version": 3
   },
   "file_extension": ".py",
   "mimetype": "text/x-python",
   "name": "python",
   "nbconvert_exporter": "python",
   "pygments_lexer": "ipython3",
   "version": "3.10.6"
  },
  "orig_nbformat": 4
 },
 "nbformat": 4,
 "nbformat_minor": 2
}
