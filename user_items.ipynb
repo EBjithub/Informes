{
 "cells": [
  {
   "cell_type": "code",
   "execution_count": 3,
   "metadata": {},
   "outputs": [],
   "source": [
    "import pandas as pd # import Pandas library\n",
    "import gzip # to manage gzip-compressed files\n",
    "import json # to handle json data\n",
    "from textblob import TextBlob # to make the sentiment analyst"
   ]
  },
  {
   "cell_type": "code",
   "execution_count": 2,
   "metadata": {},
   "outputs": [],
   "source": [
    "def convert_single_to_double_quotes(line):\n",
    "    \"\"\"Safely converts single quotes in a string to double quotes for JSON parsing.\"\"\"\n",
    "    try:\n",
    "        return json.dumps(eval(line)) #eval first the incorrect json format of simple quote, into a python dictionary, since python\n",
    "                                      #actually uses simple in dictionaries.\n",
    "                                      #Then, json.dumps converts that string (dictionary) into a json with a real correct format of\n",
    "                                      #two quotation marks\n",
    "    except:\n",
    "        return None"
   ]
  },
  {
   "cell_type": "code",
   "execution_count": 3,
   "metadata": {},
   "outputs": [],
   "source": [
    "# List to store the converted lines\n",
    "converted_lines2 = []\n",
    "\n",
    "# Open the compressed file and read line by line with utf-8 encoding\n",
    "with gzip.open('./datasets_crudos/users_items.json.gz', 'rt', encoding='utf-8') as file:\n",
    "    for line in file:\n",
    "        converted_line = convert_single_to_double_quotes(line)\n",
    "        if converted_line:\n",
    "            converted_lines2.append(converted_line)\n",
    "\n",
    "# Load the converted lines into a DataFrame\n",
    "users_items = pd.DataFrame([json.loads(line) for line in converted_lines2])"
   ]
  },
  {
   "cell_type": "code",
   "execution_count": 12,
   "metadata": {},
   "outputs": [],
   "source": [
    "# make explode of column items to keep later only the needed data, and to create a joined_id to join table user_reviews. \n",
    "users_items1 = users_items.explode([\"items\"])"
   ]
  },
  {
   "cell_type": "code",
   "execution_count": 27,
   "metadata": {},
   "outputs": [
    {
     "data": {
      "text/html": [
       "<div>\n",
       "<style scoped>\n",
       "    .dataframe tbody tr th:only-of-type {\n",
       "        vertical-align: middle;\n",
       "    }\n",
       "\n",
       "    .dataframe tbody tr th {\n",
       "        vertical-align: top;\n",
       "    }\n",
       "\n",
       "    .dataframe thead th {\n",
       "        text-align: right;\n",
       "    }\n",
       "</style>\n",
       "<table border=\"1\" class=\"dataframe\">\n",
       "  <thead>\n",
       "    <tr style=\"text-align: right;\">\n",
       "      <th></th>\n",
       "      <th>user_id</th>\n",
       "      <th>items_count</th>\n",
       "      <th>steam_id</th>\n",
       "      <th>user_url</th>\n",
       "      <th>items</th>\n",
       "    </tr>\n",
       "  </thead>\n",
       "  <tbody>\n",
       "    <tr>\n",
       "      <th>0</th>\n",
       "      <td>76561197970982479</td>\n",
       "      <td>277</td>\n",
       "      <td>76561197970982479</td>\n",
       "      <td>http://steamcommunity.com/profiles/76561197970...</td>\n",
       "      <td>{'item_id': '10', 'item_name': 'Counter-Strike...</td>\n",
       "    </tr>\n",
       "    <tr>\n",
       "      <th>0</th>\n",
       "      <td>76561197970982479</td>\n",
       "      <td>277</td>\n",
       "      <td>76561197970982479</td>\n",
       "      <td>http://steamcommunity.com/profiles/76561197970...</td>\n",
       "      <td>{'item_id': '20', 'item_name': 'Team Fortress ...</td>\n",
       "    </tr>\n",
       "    <tr>\n",
       "      <th>0</th>\n",
       "      <td>76561197970982479</td>\n",
       "      <td>277</td>\n",
       "      <td>76561197970982479</td>\n",
       "      <td>http://steamcommunity.com/profiles/76561197970...</td>\n",
       "      <td>{'item_id': '30', 'item_name': 'Day of Defeat'...</td>\n",
       "    </tr>\n",
       "    <tr>\n",
       "      <th>0</th>\n",
       "      <td>76561197970982479</td>\n",
       "      <td>277</td>\n",
       "      <td>76561197970982479</td>\n",
       "      <td>http://steamcommunity.com/profiles/76561197970...</td>\n",
       "      <td>{'item_id': '40', 'item_name': 'Deathmatch Cla...</td>\n",
       "    </tr>\n",
       "    <tr>\n",
       "      <th>0</th>\n",
       "      <td>76561197970982479</td>\n",
       "      <td>277</td>\n",
       "      <td>76561197970982479</td>\n",
       "      <td>http://steamcommunity.com/profiles/76561197970...</td>\n",
       "      <td>{'item_id': '50', 'item_name': 'Half-Life: Opp...</td>\n",
       "    </tr>\n",
       "  </tbody>\n",
       "</table>\n",
       "</div>"
      ],
      "text/plain": [
       "             user_id  items_count           steam_id  \\\n",
       "0  76561197970982479          277  76561197970982479   \n",
       "0  76561197970982479          277  76561197970982479   \n",
       "0  76561197970982479          277  76561197970982479   \n",
       "0  76561197970982479          277  76561197970982479   \n",
       "0  76561197970982479          277  76561197970982479   \n",
       "\n",
       "                                            user_url  \\\n",
       "0  http://steamcommunity.com/profiles/76561197970...   \n",
       "0  http://steamcommunity.com/profiles/76561197970...   \n",
       "0  http://steamcommunity.com/profiles/76561197970...   \n",
       "0  http://steamcommunity.com/profiles/76561197970...   \n",
       "0  http://steamcommunity.com/profiles/76561197970...   \n",
       "\n",
       "                                               items  \n",
       "0  {'item_id': '10', 'item_name': 'Counter-Strike...  \n",
       "0  {'item_id': '20', 'item_name': 'Team Fortress ...  \n",
       "0  {'item_id': '30', 'item_name': 'Day of Defeat'...  \n",
       "0  {'item_id': '40', 'item_name': 'Deathmatch Cla...  \n",
       "0  {'item_id': '50', 'item_name': 'Half-Life: Opp...  "
      ]
     },
     "execution_count": 27,
     "metadata": {},
     "output_type": "execute_result"
    }
   ],
   "source": [
    "users_items1.head()"
   ]
  },
  {
   "cell_type": "code",
   "execution_count": 14,
   "metadata": {},
   "outputs": [],
   "source": [
    "users_items2 = pd.json_normalize(users_items1['items']).set_index(users_items1['items'].index)"
   ]
  },
  {
   "cell_type": "code",
   "execution_count": 15,
   "metadata": {},
   "outputs": [
    {
     "data": {
      "text/html": [
       "<div>\n",
       "<style scoped>\n",
       "    .dataframe tbody tr th:only-of-type {\n",
       "        vertical-align: middle;\n",
       "    }\n",
       "\n",
       "    .dataframe tbody tr th {\n",
       "        vertical-align: top;\n",
       "    }\n",
       "\n",
       "    .dataframe thead th {\n",
       "        text-align: right;\n",
       "    }\n",
       "</style>\n",
       "<table border=\"1\" class=\"dataframe\">\n",
       "  <thead>\n",
       "    <tr style=\"text-align: right;\">\n",
       "      <th></th>\n",
       "      <th>item_id</th>\n",
       "      <th>item_name</th>\n",
       "      <th>playtime_forever</th>\n",
       "      <th>playtime_2weeks</th>\n",
       "    </tr>\n",
       "  </thead>\n",
       "  <tbody>\n",
       "    <tr>\n",
       "      <th>0</th>\n",
       "      <td>10</td>\n",
       "      <td>Counter-Strike</td>\n",
       "      <td>6.0</td>\n",
       "      <td>0.0</td>\n",
       "    </tr>\n",
       "    <tr>\n",
       "      <th>0</th>\n",
       "      <td>20</td>\n",
       "      <td>Team Fortress Classic</td>\n",
       "      <td>0.0</td>\n",
       "      <td>0.0</td>\n",
       "    </tr>\n",
       "    <tr>\n",
       "      <th>0</th>\n",
       "      <td>30</td>\n",
       "      <td>Day of Defeat</td>\n",
       "      <td>7.0</td>\n",
       "      <td>0.0</td>\n",
       "    </tr>\n",
       "    <tr>\n",
       "      <th>0</th>\n",
       "      <td>40</td>\n",
       "      <td>Deathmatch Classic</td>\n",
       "      <td>0.0</td>\n",
       "      <td>0.0</td>\n",
       "    </tr>\n",
       "    <tr>\n",
       "      <th>0</th>\n",
       "      <td>50</td>\n",
       "      <td>Half-Life: Opposing Force</td>\n",
       "      <td>0.0</td>\n",
       "      <td>0.0</td>\n",
       "    </tr>\n",
       "  </tbody>\n",
       "</table>\n",
       "</div>"
      ],
      "text/plain": [
       "  item_id                  item_name  playtime_forever  playtime_2weeks\n",
       "0      10             Counter-Strike               6.0              0.0\n",
       "0      20      Team Fortress Classic               0.0              0.0\n",
       "0      30              Day of Defeat               7.0              0.0\n",
       "0      40         Deathmatch Classic               0.0              0.0\n",
       "0      50  Half-Life: Opposing Force               0.0              0.0"
      ]
     },
     "execution_count": 15,
     "metadata": {},
     "output_type": "execute_result"
    }
   ],
   "source": [
    "users_items2.head()"
   ]
  },
  {
   "cell_type": "code",
   "execution_count": 16,
   "metadata": {},
   "outputs": [],
   "source": [
    "users_items3= pd.concat([users_items2, users_items1], axis = 1)"
   ]
  },
  {
   "cell_type": "code",
   "execution_count": 28,
   "metadata": {},
   "outputs": [
    {
     "data": {
      "text/html": [
       "<div>\n",
       "<style scoped>\n",
       "    .dataframe tbody tr th:only-of-type {\n",
       "        vertical-align: middle;\n",
       "    }\n",
       "\n",
       "    .dataframe tbody tr th {\n",
       "        vertical-align: top;\n",
       "    }\n",
       "\n",
       "    .dataframe thead th {\n",
       "        text-align: right;\n",
       "    }\n",
       "</style>\n",
       "<table border=\"1\" class=\"dataframe\">\n",
       "  <thead>\n",
       "    <tr style=\"text-align: right;\">\n",
       "      <th></th>\n",
       "      <th>item_id</th>\n",
       "      <th>item_name</th>\n",
       "      <th>playtime_forever</th>\n",
       "      <th>playtime_2weeks</th>\n",
       "      <th>user_id</th>\n",
       "      <th>items_count</th>\n",
       "      <th>steam_id</th>\n",
       "      <th>user_url</th>\n",
       "      <th>items</th>\n",
       "    </tr>\n",
       "  </thead>\n",
       "  <tbody>\n",
       "    <tr>\n",
       "      <th>0</th>\n",
       "      <td>10</td>\n",
       "      <td>Counter-Strike</td>\n",
       "      <td>6.0</td>\n",
       "      <td>0.0</td>\n",
       "      <td>76561197970982479</td>\n",
       "      <td>277</td>\n",
       "      <td>76561197970982479</td>\n",
       "      <td>http://steamcommunity.com/profiles/76561197970...</td>\n",
       "      <td>{'item_id': '10', 'item_name': 'Counter-Strike...</td>\n",
       "    </tr>\n",
       "    <tr>\n",
       "      <th>0</th>\n",
       "      <td>20</td>\n",
       "      <td>Team Fortress Classic</td>\n",
       "      <td>0.0</td>\n",
       "      <td>0.0</td>\n",
       "      <td>76561197970982479</td>\n",
       "      <td>277</td>\n",
       "      <td>76561197970982479</td>\n",
       "      <td>http://steamcommunity.com/profiles/76561197970...</td>\n",
       "      <td>{'item_id': '20', 'item_name': 'Team Fortress ...</td>\n",
       "    </tr>\n",
       "    <tr>\n",
       "      <th>0</th>\n",
       "      <td>30</td>\n",
       "      <td>Day of Defeat</td>\n",
       "      <td>7.0</td>\n",
       "      <td>0.0</td>\n",
       "      <td>76561197970982479</td>\n",
       "      <td>277</td>\n",
       "      <td>76561197970982479</td>\n",
       "      <td>http://steamcommunity.com/profiles/76561197970...</td>\n",
       "      <td>{'item_id': '30', 'item_name': 'Day of Defeat'...</td>\n",
       "    </tr>\n",
       "    <tr>\n",
       "      <th>0</th>\n",
       "      <td>40</td>\n",
       "      <td>Deathmatch Classic</td>\n",
       "      <td>0.0</td>\n",
       "      <td>0.0</td>\n",
       "      <td>76561197970982479</td>\n",
       "      <td>277</td>\n",
       "      <td>76561197970982479</td>\n",
       "      <td>http://steamcommunity.com/profiles/76561197970...</td>\n",
       "      <td>{'item_id': '40', 'item_name': 'Deathmatch Cla...</td>\n",
       "    </tr>\n",
       "    <tr>\n",
       "      <th>0</th>\n",
       "      <td>50</td>\n",
       "      <td>Half-Life: Opposing Force</td>\n",
       "      <td>0.0</td>\n",
       "      <td>0.0</td>\n",
       "      <td>76561197970982479</td>\n",
       "      <td>277</td>\n",
       "      <td>76561197970982479</td>\n",
       "      <td>http://steamcommunity.com/profiles/76561197970...</td>\n",
       "      <td>{'item_id': '50', 'item_name': 'Half-Life: Opp...</td>\n",
       "    </tr>\n",
       "  </tbody>\n",
       "</table>\n",
       "</div>"
      ],
      "text/plain": [
       "  item_id                  item_name  playtime_forever  playtime_2weeks  \\\n",
       "0      10             Counter-Strike               6.0              0.0   \n",
       "0      20      Team Fortress Classic               0.0              0.0   \n",
       "0      30              Day of Defeat               7.0              0.0   \n",
       "0      40         Deathmatch Classic               0.0              0.0   \n",
       "0      50  Half-Life: Opposing Force               0.0              0.0   \n",
       "\n",
       "             user_id  items_count           steam_id  \\\n",
       "0  76561197970982479          277  76561197970982479   \n",
       "0  76561197970982479          277  76561197970982479   \n",
       "0  76561197970982479          277  76561197970982479   \n",
       "0  76561197970982479          277  76561197970982479   \n",
       "0  76561197970982479          277  76561197970982479   \n",
       "\n",
       "                                            user_url  \\\n",
       "0  http://steamcommunity.com/profiles/76561197970...   \n",
       "0  http://steamcommunity.com/profiles/76561197970...   \n",
       "0  http://steamcommunity.com/profiles/76561197970...   \n",
       "0  http://steamcommunity.com/profiles/76561197970...   \n",
       "0  http://steamcommunity.com/profiles/76561197970...   \n",
       "\n",
       "                                               items  \n",
       "0  {'item_id': '10', 'item_name': 'Counter-Strike...  \n",
       "0  {'item_id': '20', 'item_name': 'Team Fortress ...  \n",
       "0  {'item_id': '30', 'item_name': 'Day of Defeat'...  \n",
       "0  {'item_id': '40', 'item_name': 'Deathmatch Cla...  \n",
       "0  {'item_id': '50', 'item_name': 'Half-Life: Opp...  "
      ]
     },
     "execution_count": 28,
     "metadata": {},
     "output_type": "execute_result"
    }
   ],
   "source": [
    "users_items3.head()"
   ]
  },
  {
   "cell_type": "code",
   "execution_count": 35,
   "metadata": {},
   "outputs": [
    {
     "data": {
      "text/plain": [
       "Index(['item_id', 'item_name', 'playtime_forever', 'playtime_2weeks',\n",
       "       'user_id', 'items_count', 'steam_id', 'user_url', 'items'],\n",
       "      dtype='object')"
      ]
     },
     "execution_count": 35,
     "metadata": {},
     "output_type": "execute_result"
    }
   ],
   "source": [
    "users_items3.columns"
   ]
  },
  {
   "cell_type": "code",
   "execution_count": 36,
   "metadata": {},
   "outputs": [],
   "source": [
    "#delete columns playtime_2weeks, user_url, items\n",
    "users_items4 = users_items3.drop(['playtime_2weeks','steam_id','user_url','items'], axis=1)"
   ]
  },
  {
   "cell_type": "code",
   "execution_count": 38,
   "metadata": {},
   "outputs": [],
   "source": [
    "# create a joined_id between user_id & item_id to joint user_reviews table with user_items table and steam_games table.\n",
    "users_items4['joined_id'] = users_items4['user_id'] + users_items4['item_id']"
   ]
  },
  {
   "cell_type": "code",
   "execution_count": 39,
   "metadata": {},
   "outputs": [],
   "source": [
    "users_items5 = users_items4.drop(['user_id', 'item_id'], axis=1) # drop original id columns"
   ]
  },
  {
   "cell_type": "code",
   "execution_count": 43,
   "metadata": {},
   "outputs": [],
   "source": [
    "users_items5.dropna(how='all', inplace=True) # the how=all ensures to drop only the rows that are completely empty"
   ]
  },
  {
   "cell_type": "code",
   "execution_count": null,
   "metadata": {},
   "outputs": [],
   "source": [
    "users_items5.iloc[300:350]"
   ]
  },
  {
   "cell_type": "code",
   "execution_count": 48,
   "metadata": {},
   "outputs": [
    {
     "name": "stdout",
     "output_type": "stream",
     "text": [
      "item_name           16806\n",
      "playtime_forever    16806\n",
      "items_count             0\n",
      "joined_id           16806\n",
      "dtype: int64\n"
     ]
    }
   ],
   "source": [
    "print(users_items5.isna().sum()) # check for na values"
   ]
  },
  {
   "cell_type": "code",
   "execution_count": 47,
   "metadata": {},
   "outputs": [],
   "source": [
    "users_items6 = users_items5.dropna(subset=['playtime_forever']) # delete rows where playtime_forever = na"
   ]
  },
  {
   "cell_type": "code",
   "execution_count": 51,
   "metadata": {},
   "outputs": [
    {
     "name": "stdout",
     "output_type": "stream",
     "text": [
      "item_name           0\n",
      "playtime_forever    0\n",
      "items_count         0\n",
      "joined_id           0\n",
      "dtype: int64\n"
     ]
    }
   ],
   "source": [
    "print(users_items6.isna().sum()) # check for na values update"
   ]
  },
  {
   "cell_type": "code",
   "execution_count": 60,
   "metadata": {},
   "outputs": [],
   "source": [
    "users_items7 = users_items6[users_items6['playtime_forever'] != 0] # drop rows where timeplay_forever = 0"
   ]
  },
  {
   "cell_type": "code",
   "execution_count": 71,
   "metadata": {},
   "outputs": [],
   "source": [
    "# read user_review to join with the user_items\n",
    "file_name_to_read = './dataset_ready/users_reviews_v2.csv'\n",
    "users_reviews4 = pd.read_csv(file_name_to_read)"
   ]
  },
  {
   "cell_type": "code",
   "execution_count": 72,
   "metadata": {},
   "outputs": [
    {
     "data": {
      "text/html": [
       "<div>\n",
       "<style scoped>\n",
       "    .dataframe tbody tr th:only-of-type {\n",
       "        vertical-align: middle;\n",
       "    }\n",
       "\n",
       "    .dataframe tbody tr th {\n",
       "        vertical-align: top;\n",
       "    }\n",
       "\n",
       "    .dataframe thead th {\n",
       "        text-align: right;\n",
       "    }\n",
       "</style>\n",
       "<table border=\"1\" class=\"dataframe\">\n",
       "  <thead>\n",
       "    <tr style=\"text-align: right;\">\n",
       "      <th></th>\n",
       "      <th>item_id</th>\n",
       "      <th>recommend</th>\n",
       "      <th>review</th>\n",
       "      <th>user_id</th>\n",
       "      <th>joined_id</th>\n",
       "    </tr>\n",
       "  </thead>\n",
       "  <tbody>\n",
       "    <tr>\n",
       "      <th>0</th>\n",
       "      <td>1250.0</td>\n",
       "      <td>True</td>\n",
       "      <td>Simple yet with great replayability. In my opi...</td>\n",
       "      <td>76561197970982479</td>\n",
       "      <td>765611979709824791250</td>\n",
       "    </tr>\n",
       "    <tr>\n",
       "      <th>1</th>\n",
       "      <td>22200.0</td>\n",
       "      <td>True</td>\n",
       "      <td>It's unique and worth a playthrough.</td>\n",
       "      <td>76561197970982479</td>\n",
       "      <td>7656119797098247922200</td>\n",
       "    </tr>\n",
       "    <tr>\n",
       "      <th>2</th>\n",
       "      <td>43110.0</td>\n",
       "      <td>True</td>\n",
       "      <td>Great atmosphere. The gunplay can be a bit chu...</td>\n",
       "      <td>76561197970982479</td>\n",
       "      <td>7656119797098247943110</td>\n",
       "    </tr>\n",
       "    <tr>\n",
       "      <th>3</th>\n",
       "      <td>251610.0</td>\n",
       "      <td>True</td>\n",
       "      <td>I know what you think when you see this title ...</td>\n",
       "      <td>js41637</td>\n",
       "      <td>js41637251610</td>\n",
       "    </tr>\n",
       "    <tr>\n",
       "      <th>4</th>\n",
       "      <td>227300.0</td>\n",
       "      <td>True</td>\n",
       "      <td>For a simple (it's actually not all that simpl...</td>\n",
       "      <td>js41637</td>\n",
       "      <td>js41637227300</td>\n",
       "    </tr>\n",
       "  </tbody>\n",
       "</table>\n",
       "</div>"
      ],
      "text/plain": [
       "    item_id recommend                                             review  \\\n",
       "0    1250.0      True  Simple yet with great replayability. In my opi...   \n",
       "1   22200.0      True               It's unique and worth a playthrough.   \n",
       "2   43110.0      True  Great atmosphere. The gunplay can be a bit chu...   \n",
       "3  251610.0      True  I know what you think when you see this title ...   \n",
       "4  227300.0      True  For a simple (it's actually not all that simpl...   \n",
       "\n",
       "             user_id               joined_id  \n",
       "0  76561197970982479   765611979709824791250  \n",
       "1  76561197970982479  7656119797098247922200  \n",
       "2  76561197970982479  7656119797098247943110  \n",
       "3            js41637           js41637251610  \n",
       "4            js41637           js41637227300  "
      ]
     },
     "execution_count": 72,
     "metadata": {},
     "output_type": "execute_result"
    }
   ],
   "source": [
    "users_reviews4.head()"
   ]
  },
  {
   "cell_type": "code",
   "execution_count": 73,
   "metadata": {},
   "outputs": [],
   "source": [
    "merged_df = users_items7.merge(users_reviews4, on='joined_id') # merge items with reviews tables"
   ]
  },
  {
   "cell_type": "code",
   "execution_count": 74,
   "metadata": {},
   "outputs": [
    {
     "data": {
      "text/html": [
       "<div>\n",
       "<style scoped>\n",
       "    .dataframe tbody tr th:only-of-type {\n",
       "        vertical-align: middle;\n",
       "    }\n",
       "\n",
       "    .dataframe tbody tr th {\n",
       "        vertical-align: top;\n",
       "    }\n",
       "\n",
       "    .dataframe thead th {\n",
       "        text-align: right;\n",
       "    }\n",
       "</style>\n",
       "<table border=\"1\" class=\"dataframe\">\n",
       "  <thead>\n",
       "    <tr style=\"text-align: right;\">\n",
       "      <th></th>\n",
       "      <th>item_name</th>\n",
       "      <th>playtime_forever</th>\n",
       "      <th>items_count</th>\n",
       "      <th>joined_id</th>\n",
       "      <th>item_id</th>\n",
       "      <th>recommend</th>\n",
       "      <th>review</th>\n",
       "      <th>user_id</th>\n",
       "    </tr>\n",
       "  </thead>\n",
       "  <tbody>\n",
       "    <tr>\n",
       "      <th>0</th>\n",
       "      <td>Zeno Clash</td>\n",
       "      <td>271.0</td>\n",
       "      <td>277</td>\n",
       "      <td>7656119797098247922200</td>\n",
       "      <td>22200.0</td>\n",
       "      <td>True</td>\n",
       "      <td>It's unique and worth a playthrough.</td>\n",
       "      <td>76561197970982479</td>\n",
       "    </tr>\n",
       "    <tr>\n",
       "      <th>1</th>\n",
       "      <td>Killing Floor</td>\n",
       "      <td>10006.0</td>\n",
       "      <td>277</td>\n",
       "      <td>765611979709824791250</td>\n",
       "      <td>1250.0</td>\n",
       "      <td>True</td>\n",
       "      <td>Simple yet with great replayability. In my opi...</td>\n",
       "      <td>76561197970982479</td>\n",
       "    </tr>\n",
       "    <tr>\n",
       "      <th>2</th>\n",
       "      <td>Metro 2033</td>\n",
       "      <td>834.0</td>\n",
       "      <td>277</td>\n",
       "      <td>7656119797098247943110</td>\n",
       "      <td>43110.0</td>\n",
       "      <td>True</td>\n",
       "      <td>Great atmosphere. The gunplay can be a bit chu...</td>\n",
       "      <td>76561197970982479</td>\n",
       "    </tr>\n",
       "    <tr>\n",
       "      <th>3</th>\n",
       "      <td>Euro Truck Simulator 2</td>\n",
       "      <td>551.0</td>\n",
       "      <td>888</td>\n",
       "      <td>js41637227300</td>\n",
       "      <td>227300.0</td>\n",
       "      <td>True</td>\n",
       "      <td>For a simple (it's actually not all that simpl...</td>\n",
       "      <td>js41637</td>\n",
       "    </tr>\n",
       "    <tr>\n",
       "      <th>4</th>\n",
       "      <td>Papers, Please</td>\n",
       "      <td>349.0</td>\n",
       "      <td>888</td>\n",
       "      <td>js41637239030</td>\n",
       "      <td>239030.0</td>\n",
       "      <td>True</td>\n",
       "      <td>Very fun little game to play when your bored o...</td>\n",
       "      <td>js41637</td>\n",
       "    </tr>\n",
       "  </tbody>\n",
       "</table>\n",
       "</div>"
      ],
      "text/plain": [
       "                item_name  playtime_forever  items_count  \\\n",
       "0              Zeno Clash             271.0          277   \n",
       "1           Killing Floor           10006.0          277   \n",
       "2              Metro 2033             834.0          277   \n",
       "3  Euro Truck Simulator 2             551.0          888   \n",
       "4          Papers, Please             349.0          888   \n",
       "\n",
       "                joined_id   item_id recommend  \\\n",
       "0  7656119797098247922200   22200.0      True   \n",
       "1   765611979709824791250    1250.0      True   \n",
       "2  7656119797098247943110   43110.0      True   \n",
       "3           js41637227300  227300.0      True   \n",
       "4           js41637239030  239030.0      True   \n",
       "\n",
       "                                              review            user_id  \n",
       "0               It's unique and worth a playthrough.  76561197970982479  \n",
       "1  Simple yet with great replayability. In my opi...  76561197970982479  \n",
       "2  Great atmosphere. The gunplay can be a bit chu...  76561197970982479  \n",
       "3  For a simple (it's actually not all that simpl...            js41637  \n",
       "4  Very fun little game to play when your bored o...            js41637  "
      ]
     },
     "execution_count": 74,
     "metadata": {},
     "output_type": "execute_result"
    }
   ],
   "source": [
    "merged_df.head()"
   ]
  },
  {
   "cell_type": "code",
   "execution_count": 75,
   "metadata": {},
   "outputs": [],
   "source": [
    "# Export DataFrame to csv file to check\n",
    "file_name = './dataset_ready/merged_users_items_reviews.csv' #file name included extension\n",
    "pd.DataFrame(merged_df, columns = merged_df.columns).to_csv(file_name, index=False)  # \"index=False\" to avoid indexs columns"
   ]
  },
  {
   "cell_type": "code",
   "execution_count": 86,
   "metadata": {},
   "outputs": [],
   "source": [
    "file_name_to_read = './dataset_ready/merged_users_items_reviews.csv' # to load the merge reviews and items file \n",
    "merged_df = pd.read_csv(file_name_to_read)"
   ]
  },
  {
   "cell_type": "code",
   "execution_count": 90,
   "metadata": {},
   "outputs": [
    {
     "data": {
      "text/html": [
       "<div>\n",
       "<style scoped>\n",
       "    .dataframe tbody tr th:only-of-type {\n",
       "        vertical-align: middle;\n",
       "    }\n",
       "\n",
       "    .dataframe tbody tr th {\n",
       "        vertical-align: top;\n",
       "    }\n",
       "\n",
       "    .dataframe thead th {\n",
       "        text-align: right;\n",
       "    }\n",
       "</style>\n",
       "<table border=\"1\" class=\"dataframe\">\n",
       "  <thead>\n",
       "    <tr style=\"text-align: right;\">\n",
       "      <th></th>\n",
       "      <th>item_name</th>\n",
       "      <th>playtime_forever</th>\n",
       "      <th>items_count</th>\n",
       "      <th>joined_id</th>\n",
       "      <th>item_id</th>\n",
       "      <th>recommend</th>\n",
       "      <th>review</th>\n",
       "      <th>user_id</th>\n",
       "    </tr>\n",
       "  </thead>\n",
       "  <tbody>\n",
       "    <tr>\n",
       "      <th>0</th>\n",
       "      <td>Zeno Clash</td>\n",
       "      <td>271.0</td>\n",
       "      <td>277</td>\n",
       "      <td>7656119797098247922200</td>\n",
       "      <td>22200.0</td>\n",
       "      <td>True</td>\n",
       "      <td>It's unique and worth a playthrough.</td>\n",
       "      <td>76561197970982479</td>\n",
       "    </tr>\n",
       "    <tr>\n",
       "      <th>16647</th>\n",
       "      <td>Zeno Clash</td>\n",
       "      <td>240.0</td>\n",
       "      <td>942</td>\n",
       "      <td>seantheextraprawnsheepguy22200</td>\n",
       "      <td>22200.0</td>\n",
       "      <td>True</td>\n",
       "      <td>Combine FPS and Fighting games, mixed with the...</td>\n",
       "      <td>seantheextraprawnsheepguy</td>\n",
       "    </tr>\n",
       "    <tr>\n",
       "      <th>22570</th>\n",
       "      <td>Zeno Clash</td>\n",
       "      <td>690.0</td>\n",
       "      <td>61</td>\n",
       "      <td>pipekissXD22200</td>\n",
       "      <td>22200.0</td>\n",
       "      <td>True</td>\n",
       "      <td>es un juego miy bueno y es en 1ra parsona :D</td>\n",
       "      <td>pipekissXD</td>\n",
       "    </tr>\n",
       "    <tr>\n",
       "      <th>22609</th>\n",
       "      <td>Zeno Clash</td>\n",
       "      <td>23.0</td>\n",
       "      <td>180</td>\n",
       "      <td>ClockworkLunatic22200</td>\n",
       "      <td>22200.0</td>\n",
       "      <td>True</td>\n",
       "      <td>WHAT THE OH MY GOD I DONT UNDERSTAND WHY IS WH...</td>\n",
       "      <td>ClockworkLunatic</td>\n",
       "    </tr>\n",
       "    <tr>\n",
       "      <th>36494</th>\n",
       "      <td>Zeno Clash</td>\n",
       "      <td>294.0</td>\n",
       "      <td>331</td>\n",
       "      <td>vschiffer22200</td>\n",
       "      <td>22200.0</td>\n",
       "      <td>True</td>\n",
       "      <td>An abstract yet brilliant journey in a world r...</td>\n",
       "      <td>vschiffer</td>\n",
       "    </tr>\n",
       "  </tbody>\n",
       "</table>\n",
       "</div>"
      ],
      "text/plain": [
       "        item_name  playtime_forever  items_count  \\\n",
       "0      Zeno Clash             271.0          277   \n",
       "16647  Zeno Clash             240.0          942   \n",
       "22570  Zeno Clash             690.0           61   \n",
       "22609  Zeno Clash              23.0          180   \n",
       "36494  Zeno Clash             294.0          331   \n",
       "\n",
       "                            joined_id  item_id  recommend  \\\n",
       "0              7656119797098247922200  22200.0       True   \n",
       "16647  seantheextraprawnsheepguy22200  22200.0       True   \n",
       "22570                 pipekissXD22200  22200.0       True   \n",
       "22609           ClockworkLunatic22200  22200.0       True   \n",
       "36494                  vschiffer22200  22200.0       True   \n",
       "\n",
       "                                                  review  \\\n",
       "0                   It's unique and worth a playthrough.   \n",
       "16647  Combine FPS and Fighting games, mixed with the...   \n",
       "22570       es un juego miy bueno y es en 1ra parsona :D   \n",
       "22609  WHAT THE OH MY GOD I DONT UNDERSTAND WHY IS WH...   \n",
       "36494  An abstract yet brilliant journey in a world r...   \n",
       "\n",
       "                         user_id  \n",
       "0              76561197970982479  \n",
       "16647  seantheextraprawnsheepguy  \n",
       "22570                 pipekissXD  \n",
       "22609           ClockworkLunatic  \n",
       "36494                  vschiffer  "
      ]
     },
     "execution_count": 90,
     "metadata": {},
     "output_type": "execute_result"
    }
   ],
   "source": [
    "merged_df[merged_df['item_id'] == 22200] # just to check correct file"
   ]
  },
  {
   "cell_type": "code",
   "execution_count": 88,
   "metadata": {},
   "outputs": [],
   "source": [
    "file_name_to_read = './dataset_ready/steam_games_ver2.csv' # to load steam_games file to join next\n",
    "steam_games4 = pd.read_csv(file_name_to_read)"
   ]
  },
  {
   "cell_type": "code",
   "execution_count": 89,
   "metadata": {},
   "outputs": [],
   "source": [
    "merged_df3 = merged_df.merge(steam_games4, on='item_id') # merge items+reviews with steam_games --> one table!"
   ]
  },
  {
   "cell_type": "code",
   "execution_count": 22,
   "metadata": {},
   "outputs": [
    {
     "data": {
      "text/html": [
       "<div>\n",
       "<style scoped>\n",
       "    .dataframe tbody tr th:only-of-type {\n",
       "        vertical-align: middle;\n",
       "    }\n",
       "\n",
       "    .dataframe tbody tr th {\n",
       "        vertical-align: top;\n",
       "    }\n",
       "\n",
       "    .dataframe thead th {\n",
       "        text-align: right;\n",
       "    }\n",
       "</style>\n",
       "<table border=\"1\" class=\"dataframe\">\n",
       "  <thead>\n",
       "    <tr style=\"text-align: right;\">\n",
       "      <th></th>\n",
       "      <th>item_name</th>\n",
       "      <th>playtime_forever</th>\n",
       "      <th>items_count</th>\n",
       "      <th>joined_id</th>\n",
       "      <th>item_id</th>\n",
       "      <th>recommend</th>\n",
       "      <th>review</th>\n",
       "      <th>user_id</th>\n",
       "      <th>publisher</th>\n",
       "      <th>genres</th>\n",
       "      <th>title</th>\n",
       "      <th>release_date</th>\n",
       "      <th>price</th>\n",
       "      <th>developer</th>\n",
       "    </tr>\n",
       "  </thead>\n",
       "  <tbody>\n",
       "    <tr>\n",
       "      <th>0</th>\n",
       "      <td>Zeno Clash</td>\n",
       "      <td>271.0</td>\n",
       "      <td>277</td>\n",
       "      <td>7656119797098247922200</td>\n",
       "      <td>22200.0</td>\n",
       "      <td>True</td>\n",
       "      <td>It's unique and worth a playthrough.</td>\n",
       "      <td>76561197970982479</td>\n",
       "      <td>ACE Team</td>\n",
       "      <td>Action</td>\n",
       "      <td>Zeno Clash</td>\n",
       "      <td>2009-04-21</td>\n",
       "      <td>9.99</td>\n",
       "      <td>ACE Team</td>\n",
       "    </tr>\n",
       "    <tr>\n",
       "      <th>1</th>\n",
       "      <td>Zeno Clash</td>\n",
       "      <td>240.0</td>\n",
       "      <td>942</td>\n",
       "      <td>seantheextraprawnsheepguy22200</td>\n",
       "      <td>22200.0</td>\n",
       "      <td>True</td>\n",
       "      <td>Combine FPS and Fighting games, mixed with the...</td>\n",
       "      <td>seantheextraprawnsheepguy</td>\n",
       "      <td>ACE Team</td>\n",
       "      <td>Action</td>\n",
       "      <td>Zeno Clash</td>\n",
       "      <td>2009-04-21</td>\n",
       "      <td>9.99</td>\n",
       "      <td>ACE Team</td>\n",
       "    </tr>\n",
       "    <tr>\n",
       "      <th>2</th>\n",
       "      <td>Zeno Clash</td>\n",
       "      <td>690.0</td>\n",
       "      <td>61</td>\n",
       "      <td>pipekissXD22200</td>\n",
       "      <td>22200.0</td>\n",
       "      <td>True</td>\n",
       "      <td>es un juego miy bueno y es en 1ra parsona :D</td>\n",
       "      <td>pipekissXD</td>\n",
       "      <td>ACE Team</td>\n",
       "      <td>Action</td>\n",
       "      <td>Zeno Clash</td>\n",
       "      <td>2009-04-21</td>\n",
       "      <td>9.99</td>\n",
       "      <td>ACE Team</td>\n",
       "    </tr>\n",
       "    <tr>\n",
       "      <th>3</th>\n",
       "      <td>Zeno Clash</td>\n",
       "      <td>23.0</td>\n",
       "      <td>180</td>\n",
       "      <td>ClockworkLunatic22200</td>\n",
       "      <td>22200.0</td>\n",
       "      <td>True</td>\n",
       "      <td>WHAT THE OH MY GOD I DONT UNDERSTAND WHY IS WH...</td>\n",
       "      <td>ClockworkLunatic</td>\n",
       "      <td>ACE Team</td>\n",
       "      <td>Action</td>\n",
       "      <td>Zeno Clash</td>\n",
       "      <td>2009-04-21</td>\n",
       "      <td>9.99</td>\n",
       "      <td>ACE Team</td>\n",
       "    </tr>\n",
       "    <tr>\n",
       "      <th>4</th>\n",
       "      <td>Zeno Clash</td>\n",
       "      <td>294.0</td>\n",
       "      <td>331</td>\n",
       "      <td>vschiffer22200</td>\n",
       "      <td>22200.0</td>\n",
       "      <td>True</td>\n",
       "      <td>An abstract yet brilliant journey in a world r...</td>\n",
       "      <td>vschiffer</td>\n",
       "      <td>ACE Team</td>\n",
       "      <td>Action</td>\n",
       "      <td>Zeno Clash</td>\n",
       "      <td>2009-04-21</td>\n",
       "      <td>9.99</td>\n",
       "      <td>ACE Team</td>\n",
       "    </tr>\n",
       "  </tbody>\n",
       "</table>\n",
       "</div>"
      ],
      "text/plain": [
       "    item_name  playtime_forever  items_count                       joined_id  \\\n",
       "0  Zeno Clash             271.0          277          7656119797098247922200   \n",
       "1  Zeno Clash             240.0          942  seantheextraprawnsheepguy22200   \n",
       "2  Zeno Clash             690.0           61                 pipekissXD22200   \n",
       "3  Zeno Clash              23.0          180           ClockworkLunatic22200   \n",
       "4  Zeno Clash             294.0          331                  vschiffer22200   \n",
       "\n",
       "   item_id  recommend                                             review  \\\n",
       "0  22200.0       True               It's unique and worth a playthrough.   \n",
       "1  22200.0       True  Combine FPS and Fighting games, mixed with the...   \n",
       "2  22200.0       True       es un juego miy bueno y es en 1ra parsona :D   \n",
       "3  22200.0       True  WHAT THE OH MY GOD I DONT UNDERSTAND WHY IS WH...   \n",
       "4  22200.0       True  An abstract yet brilliant journey in a world r...   \n",
       "\n",
       "                     user_id publisher  genres       title release_date price  \\\n",
       "0          76561197970982479  ACE Team  Action  Zeno Clash   2009-04-21  9.99   \n",
       "1  seantheextraprawnsheepguy  ACE Team  Action  Zeno Clash   2009-04-21  9.99   \n",
       "2                 pipekissXD  ACE Team  Action  Zeno Clash   2009-04-21  9.99   \n",
       "3           ClockworkLunatic  ACE Team  Action  Zeno Clash   2009-04-21  9.99   \n",
       "4                  vschiffer  ACE Team  Action  Zeno Clash   2009-04-21  9.99   \n",
       "\n",
       "  developer  \n",
       "0  ACE Team  \n",
       "1  ACE Team  \n",
       "2  ACE Team  \n",
       "3  ACE Team  \n",
       "4  ACE Team  "
      ]
     },
     "execution_count": 22,
     "metadata": {},
     "output_type": "execute_result"
    }
   ],
   "source": [
    "merged_df3.head()"
   ]
  },
  {
   "cell_type": "code",
   "execution_count": 16,
   "metadata": {},
   "outputs": [],
   "source": [
    "\n",
    "# change dates with othes format: Jun 2015, Jul 2016, Feb 2011, Jull 2014\n",
    "# Mar 2010, Oct 2016, Jan 2015, May 2014\n",
    "merged_df3['release_date'] = merged_df3['release_date'].replace([''], '2014-07-01')"
   ]
  },
  {
   "cell_type": "code",
   "execution_count": 19,
   "metadata": {},
   "outputs": [],
   "source": [
    "# change dates in blanks with 2016-07-01\n",
    "merged_df3['release_date'] = merged_df3['release_date'].fillna('2016-07-01')"
   ]
  },
  {
   "cell_type": "code",
   "execution_count": 32,
   "metadata": {},
   "outputs": [],
   "source": [
    "#change data type on column release_date to YYYY-MM-DD\n",
    "\n",
    "merged_df3['release_date'] = pd.to_datetime(merged_df3['release_date'])"
   ]
  },
  {
   "cell_type": "code",
   "execution_count": 33,
   "metadata": {},
   "outputs": [],
   "source": [
    "# create a colum year\n",
    "\n",
    "merged_df3['year'] = merged_df3['release_date'].dt.year"
   ]
  },
  {
   "cell_type": "code",
   "execution_count": 26,
   "metadata": {},
   "outputs": [],
   "source": [
    "# change the data type of column developer\n",
    "merged_df3['developer'] = merged_df3['developer'].astype('str')"
   ]
  },
  {
   "cell_type": "code",
   "execution_count": 28,
   "metadata": {},
   "outputs": [],
   "source": [
    "# apply the strip method to eliminate spaces\n",
    "merged_df3['developer'] = merged_df3['developer'].str.strip()"
   ]
  },
  {
   "cell_type": "code",
   "execution_count": 50,
   "metadata": {},
   "outputs": [],
   "source": [
    "# set o price in column price for free content Free to Play, Free to Play,Free, Free Mod, Free HITMAN™ Holiday Pack,Free Movie,\n",
    "#Play the Demo, Install Now, Third-party, Free to Use, Play for Free!, Play WARMACHINE: Tactics Demo, blanks\n",
    "\n",
    "merged_df3['price'] = merged_df3['price'].fillna('0')\n",
    "\n",
    "merged_df3['price2'] = merged_df3['price'].replace({'Free to Play': '0','Free To Play': '0', 'Free': '0', 'Free Mod': '0', 'Free HITMAN™ Holiday Pack':'0', 'Free Movie':'0','Play the Demo':'0','Install Now':'0','Third-party':'0','Free to Use':'0','Play for Free!':'0','Play WARMACHINE: Tactics Demo':'0'})\n",
    "\n",
    "#convert the type of price2 column to float with 2 decimal places\n",
    "merged_df3['price2'] = merged_df3['price2'].astype(float).round(2)"
   ]
  },
  {
   "cell_type": "code",
   "execution_count": null,
   "metadata": {},
   "outputs": [],
   "source": [
    "# function to make the sentiment analyst\n",
    "def get_sentiment(text):\n",
    "    blob = TextBlob(text)\n",
    "    sentiment = blob.sentiment.polarity\n",
    "    if sentiment < -0.1:\n",
    "        return 0\n",
    "    elif sentiment > 0.1:\n",
    "        return 2\n",
    "    else:\n",
    "        return 1"
   ]
  },
  {
   "cell_type": "code",
   "execution_count": null,
   "metadata": {},
   "outputs": [],
   "source": [
    "# change the data type of review column\n",
    "merged_df3['review']=merged_df3['review'].astype(str)"
   ]
  },
  {
   "cell_type": "code",
   "execution_count": null,
   "metadata": {},
   "outputs": [],
   "source": [
    "# create sentiment_analyst column\n",
    "merged_df3['sentiment_analysis'] = merged_df3['review'].apply(get_sentiment)"
   ]
  },
  {
   "cell_type": "code",
   "execution_count": 52,
   "metadata": {},
   "outputs": [],
   "source": [
    "# Export DataFrame to csv file\n",
    "file_name = './dataset_ready/merged_users_items_reviews_games.csv' #file name included extension\n",
    "pd.DataFrame(merged_df3, columns = merged_df3.columns).to_csv(file_name, index=False)  # \"index=False\" to avoid indexs columns"
   ]
  },
  {
   "cell_type": "code",
   "execution_count": 51,
   "metadata": {},
   "outputs": [],
   "source": [
    "# Export DataFrame to csv file\n",
    "file_name = './dataset_ready/merged_users_items_reviews_games.xlsx' #file name included extension\n",
    "pd.DataFrame(merged_df3, columns = merged_df3.columns).to_excel(file_name, index=False)  # \"index=False\" to avoid indexs columns"
   ]
  },
  {
   "cell_type": "code",
   "execution_count": null,
   "metadata": {},
   "outputs": [],
   "source": [
    "\n",
    "#set data ready for the use of the procedure by getting the item_id\n",
    "data = pd.read_csv('./dataset_ready/merged_users_items_reviews_games.csv')\n",
    "steam_merged = pd.read_csv('./dataset_ready/merged_users_items_reviews_games.csv')\n",
    "\n",
    "#take out data not useful for tgis process\n",
    "steam_merged.drop(['joined_id','user_id','genres','recommend','price','price2','playtime_forever','developer','release_date','year'],axis=1,inplace=True)\n",
    "data.drop(['joined_id','user_id','genres','recommend','price','price2','playtime_forever','year'],axis=1,inplace=True)\n",
    "\n",
    "data['item_id'] = data['item_id'].astype(str)\n",
    "data['release_date'] = data['release_date'].astype(str)\n",
    "data['title'] = data['title'].astype(str)\n",
    "data['developer'] = data['developer'].astype(str)\n",
    "\n",
    "#take put data duplicated on columns\n",
    "data = data.drop_duplicates(subset='item_id', keep='first')\n",
    "steam_merged = steam_merged.drop_duplicates(subset='item_id', keep='first')\n",
    "\n",
    "# link needed data in one column\n",
    "data['features'] = data[['title', 'developer', 'release_date']].apply(lambda x: ', '.join(x), axis=1)\n",
    "\n",
    "data.drop(['title','developer','release_date'],axis=1,inplace=True)\n",
    "\n",
    "# save final data frames to use in the query of genres\n",
    "data.to_csv('./dataset_ready/games_steam.csv', index=False)\n",
    "steam_merged.to_csv('./dataset_ready/games_id.csv', index=False)"
   ]
  }
 ],
 "metadata": {
  "kernelspec": {
   "display_name": "Python 3",
   "language": "python",
   "name": "python3"
  },
  "language_info": {
   "codemirror_mode": {
    "name": "ipython",
    "version": 3
   },
   "file_extension": ".py",
   "mimetype": "text/x-python",
   "name": "python",
   "nbconvert_exporter": "python",
   "pygments_lexer": "ipython3",
   "version": "3.10.6"
  }
 },
 "nbformat": 4,
 "nbformat_minor": 2
}
